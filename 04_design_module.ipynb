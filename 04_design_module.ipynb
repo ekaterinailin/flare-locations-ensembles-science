{
 "cells": [
  {
   "cell_type": "code",
   "execution_count": 1,
   "metadata": {},
   "outputs": [],
   "source": [
    "import astropy.units as u\n",
    "\n",
    "from fleck import generate_spots\n",
    "from fleck import Star\n",
    "\n",
    "import numpy as np\n",
    "\n",
    "from altaipony.altai import aflare\n",
    "import matplotlib.pyplot as plt\n",
    "\n",
    "from altaipony.utils import generate_random_power_law_distribution\n",
    "\n",
    "import pytest\n",
    "from flares import flare_contrast\n",
    "from decomposeed import decompose_ed_from_UCDs_and_Davenport\n",
    "\n",
    "import warnings"
   ]
  },
  {
   "cell_type": "markdown",
   "metadata": {},
   "source": [
    "\n",
    "# upgrade todo\n",
    "\n",
    "- **DONE** write an empirical `decompose_ed` (see notebook `05`)\n",
    "\n",
    "\n",
    "# exploration\n",
    "   \n",
    "- fix the longitude of dominant spot"
   ]
  },
  {
   "cell_type": "code",
   "execution_count": 2,
   "metadata": {},
   "outputs": [],
   "source": [
    "t = np.arange(0, 2 * np.pi, 2 * np.pi/600)\n",
    "n_spots = 1\n",
    "n_inclinations = 5\n",
    "emin, emax, alpha, beta = 1e-5, 1e-3, -2, 3\n"
   ]
  },
  {
   "cell_type": "code",
   "execution_count": 3,
   "metadata": {},
   "outputs": [
    {
     "name": "stdout",
     "output_type": "stream",
     "text": [
      "[3.84176919e-05 7.30444104e-05 1.81194142e-05]\n",
      "[9.03925886e-08 1.71285668e-07 4.28018096e-08] [279.0437795  279.98885587 277.94245289]\n",
      "[1.26036010e-05 1.83671880e-05 1.16488984e-05]\n",
      "[2.98292053e-08 4.33840039e-08 2.75811136e-08] [277.41205474 277.96231762 277.29709256]\n",
      "[7.41968939e-05 2.86080682e-05 1.36588089e-05]\n",
      "[1.73973864e-07 6.74160720e-08 3.23129221e-08] [280.01192101 278.61120623 277.52944661]\n",
      "[1.88216308e-05 1.13613414e-05 1.26309405e-05]\n",
      "[4.44517014e-08 2.69038007e-08 2.98935696e-08] [277.99806843 277.26062341 277.41521779]\n",
      "[1.05090551e-05 1.04511420e-05 1.26151054e-05]\n",
      "[2.48957830e-08 2.47593073e-08 2.98562896e-08] [277.14687863 277.13881984 277.41338656]\n"
     ]
    }
   ],
   "source": [
    "flares = flare_contrast(t, n_spots, emin, emax, alpha, beta, \n",
    "                        n_inclinations, \n",
    "                        decompose_ed=decompose_ed_from_UCDs_and_Davenport)"
   ]
  },
  {
   "cell_type": "code",
   "execution_count": 7,
   "metadata": {},
   "outputs": [
    {
     "data": {
      "text/plain": [
       "(600, 1, 5)"
      ]
     },
     "execution_count": 7,
     "metadata": {},
     "output_type": "execute_result"
    }
   ],
   "source": [
    "flares.shape"
   ]
  },
  {
   "cell_type": "code",
   "execution_count": 5,
   "metadata": {},
   "outputs": [
    {
     "data": {
      "text/plain": [
       "[<matplotlib.lines.Line2D at 0x7f4f58f5efd0>]"
      ]
     },
     "execution_count": 5,
     "metadata": {},
     "output_type": "execute_result"
    },
    {
     "data": {
      "image/png": "[encoded data removed]",
      "text/plain": [
       "<Figure size 432x288 with 1 Axes>"
      ]
     },
     "metadata": {
      "needs_background": "light"
     },
     "output_type": "display_data"
    }
   ],
   "source": [
    "plt.plot(t, flares[:,0,0], c=\"k\")"
   ]
  },
  {
   "cell_type": "code",
   "execution_count": null,
   "metadata": {
    "scrolled": false
   },
   "outputs": [],
   "source": [
    "u_ld = [0.5079, 0.2239]\n",
    "\n",
    "n_phases = 1\n",
    "phases = t * u.rad\n",
    "\n",
    "# infer active region radius for each lc\n",
    "spot_radius = np.array([0.01]*n_spots).reshape((n_spots,1))   # Rspot/Rstar , should be the same shape as nspotnincflare\n",
    "min_latitude = 50  # deg\n",
    "max_latitude = 60   # deg\n",
    "\n",
    "# replace with generate_active_regions()\n",
    "lons, lats, radii, inc_stellar = generate_spots(min_latitude, max_latitude,\n",
    "                                                spot_radius, n_spots,\n",
    "                                                n_inclinations=n_inclinations)\n",
    "\n"
   ]
  },
  {
   "cell_type": "code",
   "execution_count": null,
   "metadata": {},
   "outputs": [],
   "source": [
    "star = Star(spot_contrast=flares, phases=phases, u_ld=u_ld, n_phases=1)"
   ]
  },
  {
   "cell_type": "code",
   "execution_count": null,
   "metadata": {
    "scrolled": true
   },
   "outputs": [],
   "source": [
    "lcs = star.light_curve(lons, lats, radii, inc_stellar)"
   ]
  },
  {
   "cell_type": "code",
   "execution_count": null,
   "metadata": {},
   "outputs": [],
   "source": [
    "# should be (phases, n_inclinations)\n",
    "lcs.shape == (len(t), n_inclinations)"
   ]
  },
  {
   "cell_type": "code",
   "execution_count": null,
   "metadata": {},
   "outputs": [],
   "source": [
    "import matplotlib.pyplot as plt\n",
    "plt.figure(figsize=(12,6))\n",
    "# plt.plot(star.phases/2/np.pi, (lcs-1).sum(axis=1), c=\"k\")\n",
    "plt.plot(star.phases/2/np.pi, lcs, c=\"k\")\n",
    "plt.xlim(0,1)\n",
    "plt.xlabel(\"stellar rotational phase\", fontsize=14)\n",
    "plt.ylabel(\"relative stellar flux\", fontsize=14)\n",
    "plt.legend(fontsize=15, loc=1, frameon=False);\n",
    "# plt.yscale(\"log\")\n",
    "plt.title(f\"{n_spots} flaring spot between {min_latitude:2d} and {max_latitude:2d} deg latitude,\"\n",
    "          f\" at {n_inclinations:2d} different inclinations\\n\"\n",
    "          f\"same flaring properties per spot, but not the same exact flares\\n\"\n",
    "          f\"sum of  signal, beta={beta:.1f}\", fontsize=15);\n",
    "# plt.savefig(f\"plots/2021_12_20_{n_spots}_spots_distribution_{min_latitude:2d}_{max_latitude:2d}_\"\n",
    "#             f\"sum_{n_inclinations:2d}_{beta[0]:.1f}_3.png\", dpi=300);"
   ]
  },
  {
   "cell_type": "code",
   "execution_count": null,
   "metadata": {},
   "outputs": [],
   "source": []
  }
 ],
 "metadata": {
  "kernelspec": {
   "display_name": "fleck38",
   "language": "python",
   "name": "fleck38"
  },
  "language_info": {
   "codemirror_mode": {
    "name": "ipython",
    "version": 3
   },
   "file_extension": ".py",
   "mimetype": "text/x-python",
   "name": "python",
   "nbconvert_exporter": "python",
   "pygments_lexer": "ipython3",
   "version": "3.8.0"
  }
 },
 "nbformat": 4,
 "nbformat_minor": 2
}
