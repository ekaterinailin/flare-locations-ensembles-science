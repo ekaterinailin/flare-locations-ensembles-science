{
 "cells": [
  {
   "cell_type": "code",
   "execution_count": 148,
   "metadata": {},
   "outputs": [],
   "source": [
    "import astropy.units as u\n",
    "\n",
    "from fleck import generate_spots\n",
    "from fleck import Star\n",
    "\n",
    "import numpy as np\n",
    "\n",
    "from altaipony.altai import aflare\n",
    "import matplotlib.pyplot as plt\n",
    "\n",
    "from altaipony.utils import generate_random_power_law_distribution\n",
    "\n",
    "import pytest\n",
    "from flares import wrapped_aflare"
   ]
  },
  {
   "cell_type": "markdown",
   "metadata": {},
   "source": [
    "# minimum todo\n",
    "\n",
    "- ✓ test `create_flare_light_curve`\n",
    "- test `flare_contrast`\n",
    "- ✓ flares close to 1 in phase should wrap around `create_input_light_curve` \n",
    "- ✓ test `wrap_aflare`\n",
    "\n",
    "# upgrade todo\n",
    "\n",
    "- expand ed into FWHM and a in `create_input_light_curve`\n",
    "\n",
    "\n",
    "\n",
    "# exploration\n",
    "   \n",
    "- fix the longitude of dominant spot"
   ]
  },
  {
   "cell_type": "code",
   "execution_count": 168,
   "metadata": {},
   "outputs": [],
   "source": [
    "def create_flare_light_curve(time, emin, emax, alpha, beta):\n",
    "    \"\"\"Generate a flare light curve using the flare\n",
    "    model from Davenport(2014) and power law disributed\n",
    "    flare energies.\n",
    "    \n",
    "    Parameters:\n",
    "    -----------\n",
    "    time : np.array\n",
    "        time series\n",
    "    emin : float\n",
    "        minimum energy that the spot can produce \n",
    "        OR detection limit, in ED space\n",
    "    emax : float\n",
    "        maximum energy that the\n",
    "        spot can produce, in ED space\n",
    "    alpha : float\n",
    "        FFD power law exponent, in ED space\n",
    "    beta : float\n",
    "        FFD power law offset, in ED space\n",
    "        \n",
    "    Return:\n",
    "    --------\n",
    "    np.array with the same length as time, that is a light curve\n",
    "    that contains a number of flares specified by the input parameters\n",
    "    in relative flux units\n",
    "    \"\"\"\n",
    "    # generate power law distributed flare energies\n",
    "    EDs = generate_random_power_law_distribution(emin, emax, alpha+1, beta)\n",
    "    \n",
    "    # generate start times of flare randomly\n",
    "    tstart = (np.random.rand(len(EDs)) * (time[-1] - time[0])) + time[0]\n",
    "    \n",
    "    # generate each flare and sum up the flux. \n",
    "    # Add 1 as baseline, because the amplitude is given in relative units\n",
    "    lc = (np.array([wrapped_aflare(time, tstart[i], .02, ed)[1] for i, ed in enumerate(EDs)]).sum(axis=0) + 1.)\n",
    "    \n",
    "    return lc\n",
    "\n"
   ]
  },
  {
   "cell_type": "code",
   "execution_count": null,
   "metadata": {},
   "outputs": [],
   "source": [
    "# unwrap EDs into a and fwhm\n"
   ]
  },
  {
   "cell_type": "code",
   "execution_count": 172,
   "metadata": {},
   "outputs": [],
   "source": [
    "def test_create_flare_light_curve():\n",
    "    \"\"\"This basically call two functions that are\n",
    "    individually tested elsewhere: wrapped_aflare and \n",
    "    generate_random_power_law_distribution.\n",
    "    \"\"\"\n",
    "    # set up time array\n",
    "    time = np.linspace(0,1,1000)\n",
    "\n",
    "    # create a flare lc\n",
    "    lc = create_flare_light_curve(time, 0.1, 1000, -2, 2)\n",
    "    \n",
    "    # just make sure the shape of the light curve is preserved\n",
    "    assert lc.shape == time.shape\n"
   ]
  },
  {
   "cell_type": "code",
   "execution_count": 173,
   "metadata": {},
   "outputs": [
    {
     "data": {
      "text/plain": [
       "((1000,), (1000,))"
      ]
     },
     "execution_count": 173,
     "metadata": {},
     "output_type": "execute_result"
    }
   ],
   "source": [
    "lc.shape, time.shape"
   ]
  },
  {
   "cell_type": "code",
   "execution_count": 174,
   "metadata": {},
   "outputs": [
    {
     "name": "stdout",
     "output_type": "stream",
     "text": [
      "(1000,) (1000,)\n"
     ]
    }
   ],
   "source": [
    "test_create_flare_light_curve()"
   ]
  },
  {
   "cell_type": "code",
   "execution_count": null,
   "metadata": {},
   "outputs": [],
   "source": []
  },
  {
   "cell_type": "code",
   "execution_count": 3,
   "metadata": {},
   "outputs": [],
   "source": [
    "def flare_contrast(t, n_spots, emin, emax, alpha, beta, n_inclinations):\n",
    "    \"\"\"Creates a set of flaring light curves.\n",
    "    \n",
    "    Parameters:\n",
    "    -----------\n",
    "    t : np.array\n",
    "        array of phases in [0,1]\n",
    "    n_spots : int\n",
    "        number of flaring spots, i.e. active regions\n",
    "    emin : list of floats\n",
    "        len(emin)=n_spots\n",
    "        minimum energy that the spot can produce \n",
    "        OR detection limit, in ED space\n",
    "    emax : list of floats\n",
    "        len(emax)=n_spots\n",
    "        maximum energy that the\n",
    "        spot can produce, in ED space\n",
    "    alpha : list of floats\n",
    "        len(alpha)=n_spots\n",
    "        FFD power law exponent, in ED space\n",
    "    beta : list of floats\n",
    "        len(beta)=n_spots\n",
    "        FFD power law offset, in ED space\n",
    "    n_inclinations : int\n",
    "        i.e., number of stars\n",
    "    \n",
    "    Return:\n",
    "    --------\n",
    "    np.ndarray with dimensions (len(t), n_spots, n_inclinations),\n",
    "    i.e., a matrix of n_spots x n_inclination flare light curves\n",
    "    of length len(t), each with quiescent flux=1\n",
    "    \"\"\"\n",
    "    \n",
    "    # expand the time series to the number of spots\n",
    "    t2d = np.repeat(np.array([t]), repeats=n_spots, axis=0)\n",
    "                    \n",
    "    # expand the time series to the number of stars\n",
    "    t3d = np.repeat(t2d.T[:,:,np.newaxis], repeats=n_inclinations, axis=2)\n",
    "    \n",
    "    # define a nested function to wrap the 3d array\n",
    "    def apply_per_spot(t3d, emin, emax, alpha, beta):\n",
    "        # create a flare light curve for each star\n",
    "        # with the same flaring region parameters\n",
    "        return np.apply_along_axis(create_input_light_curve, 0,\n",
    "                                   t3d, emin, emax, alpha, beta)\n",
    "    \n",
    "    # apply function above for each spot\n",
    "    return np.array([apply_per_spot(t3d[:,i,:], emin[i], emax[i],\n",
    "                                    alpha[i]+1, beta[i]) for i in range(t3d.shape[1])])"
   ]
  },
  {
   "cell_type": "code",
   "execution_count": 4,
   "metadata": {},
   "outputs": [],
   "source": [
    "# Here, generate all LCs\n",
    "t = np.arange(0, 2 * np.pi, 2 * np.pi/600) \n",
    "n_inclinations = 1000\n",
    "n_spots = 1\n",
    "alpha = [-1.6]*n_spots\n",
    "beta = [200]*n_spots\n",
    "emin = [1]*n_spots\n",
    "emax = [100]*n_spots\n",
    "\n",
    "flares = flare_contrast(t, n_spots, emin, emax, alpha, beta, n_inclinations)"
   ]
  },
  {
   "cell_type": "code",
   "execution_count": 5,
   "metadata": {},
   "outputs": [],
   "source": [
    "u_ld = [0.5079, 0.2239]\n",
    "\n",
    "n_phases = 1\n",
    "phases = t * u.rad"
   ]
  },
  {
   "cell_type": "code",
   "execution_count": 6,
   "metadata": {},
   "outputs": [
    {
     "data": {
      "text/plain": [
       "(1, 600, 1000)"
      ]
     },
     "execution_count": 6,
     "metadata": {},
     "output_type": "execute_result"
    }
   ],
   "source": [
    "flares.shape"
   ]
  },
  {
   "cell_type": "code",
   "execution_count": 33,
   "metadata": {
    "scrolled": false
   },
   "outputs": [],
   "source": [
    "# infer active region radius for each lc\n",
    "spot_radius = np.array([0.01]*n_spots).reshape((n_spots,1))   # Rspot/Rstar , should be the same shape as nspotnincflare\n",
    "min_latitude = 50  # deg\n",
    "max_latitude = 60   # deg\n",
    "\n",
    "# replace with generate_active_regions()\n",
    "lons, lats, radii, inc_stellar = generate_spots(min_latitude, max_latitude,\n",
    "                                                spot_radius, n_spots,\n",
    "                                                n_inclinations=n_inclinations)\n",
    "\n"
   ]
  },
  {
   "cell_type": "code",
   "execution_count": 34,
   "metadata": {},
   "outputs": [],
   "source": [
    "lons = np.linspace(100,160,1000).reshape((1,1000)) * u.deg"
   ]
  },
  {
   "cell_type": "code",
   "execution_count": 35,
   "metadata": {},
   "outputs": [
    {
     "data": {
      "text/plain": [
       "((1, 1000), (1, 1000), (1, 1000), (1000,))"
      ]
     },
     "execution_count": 35,
     "metadata": {},
     "output_type": "execute_result"
    }
   ],
   "source": [
    "# should be (nspots, n_inclinations), (nspots, n_inclinations), (phases, nspots, n_inclinations) \n",
    "lons.shape, lats.shape, radii.shape, inc_stellar.shape"
   ]
  },
  {
   "cell_type": "code",
   "execution_count": 36,
   "metadata": {},
   "outputs": [],
   "source": [
    "flares.shape\n",
    "\n",
    "f = np.transpose(flares, (1, 0, 2))"
   ]
  },
  {
   "cell_type": "code",
   "execution_count": 37,
   "metadata": {},
   "outputs": [
    {
     "data": {
      "text/plain": [
       "(600, 1, 1000)"
      ]
     },
     "execution_count": 37,
     "metadata": {},
     "output_type": "execute_result"
    }
   ],
   "source": [
    "f.shape"
   ]
  },
  {
   "cell_type": "code",
   "execution_count": 38,
   "metadata": {},
   "outputs": [],
   "source": [
    "star = Star(spot_contrast=f, phases=phases, u_ld=u_ld, n_phases=1)"
   ]
  },
  {
   "cell_type": "code",
   "execution_count": 39,
   "metadata": {
    "scrolled": true
   },
   "outputs": [
    {
     "name": "stdout",
     "output_type": "stream",
     "text": [
      "(600, 1, 1, 3, 3)\n"
     ]
    }
   ],
   "source": [
    "lcs = star.light_curve(lons, lats, radii, inc_stellar)"
   ]
  },
  {
   "cell_type": "code",
   "execution_count": 40,
   "metadata": {},
   "outputs": [
    {
     "data": {
      "text/plain": [
       "(600, 1000)"
      ]
     },
     "execution_count": 40,
     "metadata": {},
     "output_type": "execute_result"
    }
   ],
   "source": [
    "# should be (phases, n_inclinations)\n",
    "lcs.shape"
   ]
  },
  {
   "cell_type": "code",
   "execution_count": 41,
   "metadata": {},
   "outputs": [
    {
     "data": {
      "text/latex": [
       "$[0,~0.010471976,~0.020943951,~\\dots,~6.2517694,~6.2622414,~6.2727133] \\; \\mathrm{rad}$"
      ],
      "text/plain": [
       "<Quantity [0.        , 0.01047198, 0.02094395, 0.03141593, 0.0418879 ,\n",
       "           0.05235988, 0.06283185, 0.07330383, 0.0837758 , 0.09424778,\n",
       "           0.10471976, 0.11519173, 0.12566371, 0.13613568, 0.14660766,\n",
       "           0.15707963, 0.16755161, 0.17802358, 0.18849556, 0.19896753,\n",
       "           0.20943951, 0.21991149, 0.23038346, 0.24085544, 0.25132741,\n",
       "           0.26179939, 0.27227136, 0.28274334, 0.29321531, 0.30368729,\n",
       "           0.31415927, 0.32463124, 0.33510322, 0.34557519, 0.35604717,\n",
       "           0.36651914, 0.37699112, 0.38746309, 0.39793507, 0.40840704,\n",
       "           0.41887902, 0.429351  , 0.43982297, 0.45029495, 0.46076692,\n",
       "           0.4712389 , 0.48171087, 0.49218285, 0.50265482, 0.5131268 ,\n",
       "           0.52359878, 0.53407075, 0.54454273, 0.5550147 , 0.56548668,\n",
       "           0.57595865, 0.58643063, 0.5969026 , 0.60737458, 0.61784656,\n",
       "           0.62831853, 0.63879051, 0.64926248, 0.65973446, 0.67020643,\n",
       "           0.68067841, 0.69115038, 0.70162236, 0.71209433, 0.72256631,\n",
       "           0.73303829, 0.74351026, 0.75398224, 0.76445421, 0.77492619,\n",
       "           0.78539816, 0.79587014, 0.80634211, 0.81681409, 0.82728607,\n",
       "           0.83775804, 0.84823002, 0.85870199, 0.86917397, 0.87964594,\n",
       "           0.89011792, 0.90058989, 0.91106187, 0.92153385, 0.93200582,\n",
       "           0.9424778 , 0.95294977, 0.96342175, 0.97389372, 0.9843657 ,\n",
       "           0.99483767, 1.00530965, 1.01578162, 1.0262536 , 1.03672558,\n",
       "           1.04719755, 1.05766953, 1.0681415 , 1.07861348, 1.08908545,\n",
       "           1.09955743, 1.1100294 , 1.12050138, 1.13097336, 1.14144533,\n",
       "           1.15191731, 1.16238928, 1.17286126, 1.18333323, 1.19380521,\n",
       "           1.20427718, 1.21474916, 1.22522113, 1.23569311, 1.24616509,\n",
       "           1.25663706, 1.26710904, 1.27758101, 1.28805299, 1.29852496,\n",
       "           1.30899694, 1.31946891, 1.32994089, 1.34041287, 1.35088484,\n",
       "           1.36135682, 1.37182879, 1.38230077, 1.39277274, 1.40324472,\n",
       "           1.41371669, 1.42418867, 1.43466065, 1.44513262, 1.4556046 ,\n",
       "           1.46607657, 1.47654855, 1.48702052, 1.4974925 , 1.50796447,\n",
       "           1.51843645, 1.52890842, 1.5393804 , 1.54985238, 1.56032435,\n",
       "           1.57079633, 1.5812683 , 1.59174028, 1.60221225, 1.61268423,\n",
       "           1.6231562 , 1.63362818, 1.64410016, 1.65457213, 1.66504411,\n",
       "           1.67551608, 1.68598806, 1.69646003, 1.70693201, 1.71740398,\n",
       "           1.72787596, 1.73834793, 1.74881991, 1.75929189, 1.76976386,\n",
       "           1.78023584, 1.79070781, 1.80117979, 1.81165176, 1.82212374,\n",
       "           1.83259571, 1.84306769, 1.85353967, 1.86401164, 1.87448362,\n",
       "           1.88495559, 1.89542757, 1.90589954, 1.91637152, 1.92684349,\n",
       "           1.93731547, 1.94778745, 1.95825942, 1.9687314 , 1.97920337,\n",
       "           1.98967535, 2.00014732, 2.0106193 , 2.02109127, 2.03156325,\n",
       "           2.04203522, 2.0525072 , 2.06297918, 2.07345115, 2.08392313,\n",
       "           2.0943951 , 2.10486708, 2.11533905, 2.12581103, 2.136283  ,\n",
       "           2.14675498, 2.15722696, 2.16769893, 2.17817091, 2.18864288,\n",
       "           2.19911486, 2.20958683, 2.22005881, 2.23053078, 2.24100276,\n",
       "           2.25147474, 2.26194671, 2.27241869, 2.28289066, 2.29336264,\n",
       "           2.30383461, 2.31430659, 2.32477856, 2.33525054, 2.34572251,\n",
       "           2.35619449, 2.36666647, 2.37713844, 2.38761042, 2.39808239,\n",
       "           2.40855437, 2.41902634, 2.42949832, 2.43997029, 2.45044227,\n",
       "           2.46091425, 2.47138622, 2.4818582 , 2.49233017, 2.50280215,\n",
       "           2.51327412, 2.5237461 , 2.53421807, 2.54469005, 2.55516202,\n",
       "           2.565634  , 2.57610598, 2.58657795, 2.59704993, 2.6075219 ,\n",
       "           2.61799388, 2.62846585, 2.63893783, 2.6494098 , 2.65988178,\n",
       "           2.67035376, 2.68082573, 2.69129771, 2.70176968, 2.71224166,\n",
       "           2.72271363, 2.73318561, 2.74365758, 2.75412956, 2.76460154,\n",
       "           2.77507351, 2.78554549, 2.79601746, 2.80648944, 2.81696141,\n",
       "           2.82743339, 2.83790536, 2.84837734, 2.85884931, 2.86932129,\n",
       "           2.87979327, 2.89026524, 2.90073722, 2.91120919, 2.92168117,\n",
       "           2.93215314, 2.94262512, 2.95309709, 2.96356907, 2.97404105,\n",
       "           2.98451302, 2.994985  , 3.00545697, 3.01592895, 3.02640092,\n",
       "           3.0368729 , 3.04734487, 3.05781685, 3.06828883, 3.0787608 ,\n",
       "           3.08923278, 3.09970475, 3.11017673, 3.1206487 , 3.13112068,\n",
       "           3.14159265, 3.15206463, 3.1625366 , 3.17300858, 3.18348056,\n",
       "           3.19395253, 3.20442451, 3.21489648, 3.22536846, 3.23584043,\n",
       "           3.24631241, 3.25678438, 3.26725636, 3.27772834, 3.28820031,\n",
       "           3.29867229, 3.30914426, 3.31961624, 3.33008821, 3.34056019,\n",
       "           3.35103216, 3.36150414, 3.37197611, 3.38244809, 3.39292007,\n",
       "           3.40339204, 3.41386402, 3.42433599, 3.43480797, 3.44527994,\n",
       "           3.45575192, 3.46622389, 3.47669587, 3.48716785, 3.49763982,\n",
       "           3.5081118 , 3.51858377, 3.52905575, 3.53952772, 3.5499997 ,\n",
       "           3.56047167, 3.57094365, 3.58141563, 3.5918876 , 3.60235958,\n",
       "           3.61283155, 3.62330353, 3.6337755 , 3.64424748, 3.65471945,\n",
       "           3.66519143, 3.6756634 , 3.68613538, 3.69660736, 3.70707933,\n",
       "           3.71755131, 3.72802328, 3.73849526, 3.74896723, 3.75943921,\n",
       "           3.76991118, 3.78038316, 3.79085514, 3.80132711, 3.81179909,\n",
       "           3.82227106, 3.83274304, 3.84321501, 3.85368699, 3.86415896,\n",
       "           3.87463094, 3.88510291, 3.89557489, 3.90604687, 3.91651884,\n",
       "           3.92699082, 3.93746279, 3.94793477, 3.95840674, 3.96887872,\n",
       "           3.97935069, 3.98982267, 4.00029465, 4.01076662, 4.0212386 ,\n",
       "           4.03171057, 4.04218255, 4.05265452, 4.0631265 , 4.07359847,\n",
       "           4.08407045, 4.09454243, 4.1050144 , 4.11548638, 4.12595835,\n",
       "           4.13643033, 4.1469023 , 4.15737428, 4.16784625, 4.17831823,\n",
       "           4.1887902 , 4.19926218, 4.20973416, 4.22020613, 4.23067811,\n",
       "           4.24115008, 4.25162206, 4.26209403, 4.27256601, 4.28303798,\n",
       "           4.29350996, 4.30398194, 4.31445391, 4.32492589, 4.33539786,\n",
       "           4.34586984, 4.35634181, 4.36681379, 4.37728576, 4.38775774,\n",
       "           4.39822972, 4.40870169, 4.41917367, 4.42964564, 4.44011762,\n",
       "           4.45058959, 4.46106157, 4.47153354, 4.48200552, 4.49247749,\n",
       "           4.50294947, 4.51342145, 4.52389342, 4.5343654 , 4.54483737,\n",
       "           4.55530935, 4.56578132, 4.5762533 , 4.58672527, 4.59719725,\n",
       "           4.60766923, 4.6181412 , 4.62861318, 4.63908515, 4.64955713,\n",
       "           4.6600291 , 4.67050108, 4.68097305, 4.69144503, 4.701917  ,\n",
       "           4.71238898, 4.72286096, 4.73333293, 4.74380491, 4.75427688,\n",
       "           4.76474886, 4.77522083, 4.78569281, 4.79616478, 4.80663676,\n",
       "           4.81710874, 4.82758071, 4.83805269, 4.84852466, 4.85899664,\n",
       "           4.86946861, 4.87994059, 4.89041256, 4.90088454, 4.91135652,\n",
       "           4.92182849, 4.93230047, 4.94277244, 4.95324442, 4.96371639,\n",
       "           4.97418837, 4.98466034, 4.99513232, 5.00560429, 5.01607627,\n",
       "           5.02654825, 5.03702022, 5.0474922 , 5.05796417, 5.06843615,\n",
       "           5.07890812, 5.0893801 , 5.09985207, 5.11032405, 5.12079603,\n",
       "           5.131268  , 5.14173998, 5.15221195, 5.16268393, 5.1731559 ,\n",
       "           5.18362788, 5.19409985, 5.20457183, 5.2150438 , 5.22551578,\n",
       "           5.23598776, 5.24645973, 5.25693171, 5.26740368, 5.27787566,\n",
       "           5.28834763, 5.29881961, 5.30929158, 5.31976356, 5.33023554,\n",
       "           5.34070751, 5.35117949, 5.36165146, 5.37212344, 5.38259541,\n",
       "           5.39306739, 5.40353936, 5.41401134, 5.42448332, 5.43495529,\n",
       "           5.44542727, 5.45589924, 5.46637122, 5.47684319, 5.48731517,\n",
       "           5.49778714, 5.50825912, 5.51873109, 5.52920307, 5.53967505,\n",
       "           5.55014702, 5.560619  , 5.57109097, 5.58156295, 5.59203492,\n",
       "           5.6025069 , 5.61297887, 5.62345085, 5.63392283, 5.6443948 ,\n",
       "           5.65486678, 5.66533875, 5.67581073, 5.6862827 , 5.69675468,\n",
       "           5.70722665, 5.71769863, 5.72817061, 5.73864258, 5.74911456,\n",
       "           5.75958653, 5.77005851, 5.78053048, 5.79100246, 5.80147443,\n",
       "           5.81194641, 5.82241838, 5.83289036, 5.84336234, 5.85383431,\n",
       "           5.86430629, 5.87477826, 5.88525024, 5.89572221, 5.90619419,\n",
       "           5.91666616, 5.92713814, 5.93761012, 5.94808209, 5.95855407,\n",
       "           5.96902604, 5.97949802, 5.98996999, 6.00044197, 6.01091394,\n",
       "           6.02138592, 6.03185789, 6.04232987, 6.05280185, 6.06327382,\n",
       "           6.0737458 , 6.08421777, 6.09468975, 6.10516172, 6.1156337 ,\n",
       "           6.12610567, 6.13657765, 6.14704963, 6.1575216 , 6.16799358,\n",
       "           6.17846555, 6.18893753, 6.1994095 , 6.20988148, 6.22035345,\n",
       "           6.23082543, 6.24129741, 6.25176938, 6.26224136, 6.27271333] rad>"
      ]
     },
     "execution_count": 41,
     "metadata": {},
     "output_type": "execute_result"
    }
   ],
   "source": [
    "star.phases"
   ]
  },
  {
   "cell_type": "code",
   "execution_count": 42,
   "metadata": {},
   "outputs": [
    {
     "name": "stderr",
     "output_type": "stream",
     "text": [
      "No artists with labels found to put in legend.  Note that artists whose label start with an underscore are ignored when legend() is called with no argument.\n"
     ]
    },
    {
     "data": {
      "image/png": "[encoded data removed]",
      "text/plain": [
       "<Figure size 864x432 with 1 Axes>"
      ]
     },
     "metadata": {
      "needs_background": "light"
     },
     "output_type": "display_data"
    }
   ],
   "source": [
    "import matplotlib.pyplot as plt\n",
    "plt.figure(figsize=(12,6))\n",
    "plt.plot(star.phases/2/np.pi, (lcs-1).sum(axis=1), c=\"k\")\n",
    "plt.xlim(0,1)\n",
    "plt.xlabel(\"stellar rotational phase\", fontsize=14)\n",
    "plt.ylabel(\"relative stellar flux\", fontsize=14)\n",
    "plt.legend(fontsize=15, loc=1, frameon=False);\n",
    "# plt.yscale(\"log\")\n",
    "plt.title(f\"{n_spots} flaring spots between {min_latitude:2d} and {max_latitude:2d} deg latitude,\"\n",
    "          f\" at {n_inclinations:2d} different inclinations\\n\"\n",
    "          f\"same flaring properties per spot, but not the same exact flares\\n\"\n",
    "          f\"sum of  signal, beta={beta[0]:.1f}\", fontsize=15)\n",
    "plt.savefig(f\"plots/2021_12_20_{n_spots}_spots_distribution_{min_latitude:2d}_{max_latitude:2d}_\"\n",
    "            f\"sum_{n_inclinations:2d}_{beta[0]:.1f}_3.png\", dpi=300);"
   ]
  },
  {
   "cell_type": "code",
   "execution_count": null,
   "metadata": {},
   "outputs": [],
   "source": []
  }
 ],
 "metadata": {
  "kernelspec": {
   "display_name": "fleck38",
   "language": "python",
   "name": "fleck38"
  },
  "language_info": {
   "codemirror_mode": {
    "name": "ipython",
    "version": 3
   },
   "file_extension": ".py",
   "mimetype": "text/x-python",
   "name": "python",
   "nbconvert_exporter": "python",
   "pygments_lexer": "ipython3",
   "version": "3.8.0"
  }
 },
 "nbformat": 4,
 "nbformat_minor": 2
}
