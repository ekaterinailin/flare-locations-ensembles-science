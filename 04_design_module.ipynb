{
 "cells": [
  {
   "cell_type": "code",
   "execution_count": 1,
   "metadata": {},
   "outputs": [],
   "source": [
    "import astropy.units as u\n",
    "\n",
    "from fleck import generate_spots\n",
    "from fleck import Star\n",
    "\n",
    "import numpy as np\n",
    "\n",
    "from altaipony.altai import aflare\n",
    "import matplotlib.pyplot as plt\n",
    "\n",
    "from altaipony.utils import generate_random_power_law_distribution\n",
    "\n",
    "import pytest\n",
    "from flares import wrapped_aflare, flare_contrast\n",
    "\n",
    "import warnings"
   ]
  },
  {
   "cell_type": "markdown",
   "metadata": {},
   "source": [
    "# minimum todo\n",
    "\n",
    "- ✓ test `create_flare_light_curve`\n",
    "- ✓ test `flare_contrast`\n",
    "- ✓ flares close to 1 in phase should wrap around `create_input_light_curve` \n",
    "- ✓ test `wrap_aflare`\n",
    "- ✓ write `mock_decompose_ed`\n",
    "- ✓ test `mock_decompose_ed`\n",
    "\n",
    "# upgrade todo\n",
    "\n",
    "- write an empirical `decompose_ed` (see notebook `05`)\n",
    "\n",
    "\n",
    "# exploration\n",
    "   \n",
    "- fix the longitude of dominant spot"
   ]
  },
  {
   "cell_type": "code",
   "execution_count": 10,
   "metadata": {},
   "outputs": [],
   "source": [
    "t = np.arange(0, 2 * np.pi, 2 * np.pi/600)\n",
    "flare_contrast(t, 1, [1, 1], [1], [-2], [2], 5).shape\n",
    "n_spots = 1"
   ]
  },
  {
   "cell_type": "code",
   "execution_count": 16,
   "metadata": {},
   "outputs": [
    {
     "ename": "ValueError",
     "evalue": "Check inputs: one or multiple of emin, emax, alpha, beta don't match in size, which should be 1.",
     "output_type": "error",
     "traceback": [
      "\u001b[0;31m---------------------------------------------------------------------------\u001b[0m",
      "\u001b[0;31mValueError\u001b[0m                                Traceback (most recent call last)",
      "\u001b[0;32m/tmp/ipykernel_27774/158597594.py\u001b[0m in \u001b[0;36m<module>\u001b[0;34m\u001b[0m\n\u001b[1;32m      1\u001b[0m \u001b[0;32mif\u001b[0m \u001b[0;34m~\u001b[0m\u001b[0;34m(\u001b[0m\u001b[0mnp\u001b[0m\u001b[0;34m.\u001b[0m\u001b[0marray\u001b[0m\u001b[0;34m(\u001b[0m\u001b[0;34m[\u001b[0m\u001b[0mlen\u001b[0m\u001b[0;34m(\u001b[0m\u001b[0;34m[\u001b[0m\u001b[0;36m1\u001b[0m\u001b[0;34m]\u001b[0m\u001b[0;34m)\u001b[0m\u001b[0;34m,\u001b[0m \u001b[0mlen\u001b[0m\u001b[0;34m(\u001b[0m\u001b[0;34m[\u001b[0m\u001b[0;36m1\u001b[0m\u001b[0;34m]\u001b[0m\u001b[0;34m)\u001b[0m\u001b[0;34m,\u001b[0m \u001b[0mlen\u001b[0m\u001b[0;34m(\u001b[0m\u001b[0;34m[\u001b[0m\u001b[0;34m-\u001b[0m\u001b[0;36m2\u001b[0m\u001b[0;34m,\u001b[0m\u001b[0;34m-\u001b[0m\u001b[0;36m2\u001b[0m\u001b[0;34m]\u001b[0m\u001b[0;34m)\u001b[0m\u001b[0;34m,\u001b[0m \u001b[0mlen\u001b[0m\u001b[0;34m(\u001b[0m\u001b[0;34m[\u001b[0m\u001b[0;36m2\u001b[0m\u001b[0;34m]\u001b[0m\u001b[0;34m)\u001b[0m\u001b[0;34m]\u001b[0m\u001b[0;34m)\u001b[0m \u001b[0;34m==\u001b[0m \u001b[0mn_spots\u001b[0m\u001b[0;34m)\u001b[0m\u001b[0;34m.\u001b[0m\u001b[0mall\u001b[0m\u001b[0;34m(\u001b[0m\u001b[0;34m)\u001b[0m\u001b[0;34m:\u001b[0m\u001b[0;34m\u001b[0m\u001b[0;34m\u001b[0m\u001b[0m\n\u001b[0;32m----> 2\u001b[0;31m     raise ValueError(f\"Check inputs: one or multiple of emin, emax, alpha, beta\"\n\u001b[0m\u001b[1;32m      3\u001b[0m                      f\" don't match in size, which should be {n_spots}.\")\n",
      "\u001b[0;31mValueError\u001b[0m: Check inputs: one or multiple of emin, emax, alpha, beta don't match in size, which should be 1."
     ]
    }
   ],
   "source": [
    "if ~(np.array([len([1]), len([1]), len([-2,-2]), len([2])]) == n_spots).all():\n",
    "    raise ValueError(f\"Check inputs: one or multiple of emin, emax, alpha, beta\"\n",
    "                     f\" don't match in size, which should be {n_spots}.\")"
   ]
  },
  {
   "cell_type": "code",
   "execution_count": null,
   "metadata": {},
   "outputs": [],
   "source": []
  },
  {
   "cell_type": "code",
   "execution_count": null,
   "metadata": {},
   "outputs": [],
   "source": []
  },
  {
   "cell_type": "code",
   "execution_count": null,
   "metadata": {},
   "outputs": [],
   "source": [
    "test_create_flare_light_curve()"
   ]
  },
  {
   "cell_type": "code",
   "execution_count": null,
   "metadata": {},
   "outputs": [],
   "source": [
    "test_mock_decompose_ed()"
   ]
  },
  {
   "cell_type": "code",
   "execution_count": null,
   "metadata": {},
   "outputs": [],
   "source": []
  },
  {
   "cell_type": "code",
   "execution_count": null,
   "metadata": {},
   "outputs": [],
   "source": []
  },
  {
   "cell_type": "code",
   "execution_count": null,
   "metadata": {},
   "outputs": [],
   "source": []
  },
  {
   "cell_type": "code",
   "execution_count": null,
   "metadata": {},
   "outputs": [],
   "source": []
  },
  {
   "cell_type": "code",
   "execution_count": null,
   "metadata": {},
   "outputs": [],
   "source": [
    "t = np.arange(0, 2 * np.pi, 2 * np.pi/600)"
   ]
  },
  {
   "cell_type": "code",
   "execution_count": null,
   "metadata": {},
   "outputs": [],
   "source": [
    "flares = flare_contrast(t, n_spots, emin, emax, alpha, beta, 5)"
   ]
  },
  {
   "cell_type": "code",
   "execution_count": null,
   "metadata": {
    "scrolled": false
   },
   "outputs": [],
   "source": [
    "u_ld = [0.5079, 0.2239]\n",
    "\n",
    "n_phases = 1\n",
    "phases = t * u.rad\n",
    "\n",
    "# infer active region radius for each lc\n",
    "spot_radius = np.array([0.01]*n_spots).reshape((n_spots,1))   # Rspot/Rstar , should be the same shape as nspotnincflare\n",
    "min_latitude = 50  # deg\n",
    "max_latitude = 60   # deg\n",
    "\n",
    "# replace with generate_active_regions()\n",
    "lons, lats, radii, inc_stellar = generate_spots(min_latitude, max_latitude,\n",
    "                                                spot_radius, n_spots,\n",
    "                                                n_inclinations=n_inclinations)\n",
    "\n"
   ]
  },
  {
   "cell_type": "code",
   "execution_count": null,
   "metadata": {},
   "outputs": [],
   "source": [
    "lons = np.linspace(100,160,1000).reshape((1,1000)) * u.deg"
   ]
  },
  {
   "cell_type": "code",
   "execution_count": null,
   "metadata": {},
   "outputs": [],
   "source": [
    "# should be (nspots, n_inclinations), (nspots, n_inclinations), (phases, nspots, n_inclinations) \n",
    "lons.shape, lats.shape, radii.shape, inc_stellar.shape"
   ]
  },
  {
   "cell_type": "code",
   "execution_count": null,
   "metadata": {},
   "outputs": [],
   "source": [
    "flares.shape\n",
    "\n",
    "f = np.transpose(flares, (1, 0, 2))"
   ]
  },
  {
   "cell_type": "code",
   "execution_count": null,
   "metadata": {},
   "outputs": [],
   "source": [
    "f.shape"
   ]
  },
  {
   "cell_type": "code",
   "execution_count": null,
   "metadata": {},
   "outputs": [],
   "source": [
    "star = Star(spot_contrast=f, phases=phases, u_ld=u_ld, n_phases=1)"
   ]
  },
  {
   "cell_type": "code",
   "execution_count": null,
   "metadata": {
    "scrolled": true
   },
   "outputs": [],
   "source": [
    "lcs = star.light_curve(lons, lats, radii, inc_stellar)"
   ]
  },
  {
   "cell_type": "code",
   "execution_count": null,
   "metadata": {},
   "outputs": [],
   "source": [
    "# should be (phases, n_inclinations)\n",
    "lcs.shape"
   ]
  },
  {
   "cell_type": "code",
   "execution_count": null,
   "metadata": {},
   "outputs": [],
   "source": [
    "star.phases"
   ]
  },
  {
   "cell_type": "code",
   "execution_count": null,
   "metadata": {},
   "outputs": [],
   "source": [
    "import matplotlib.pyplot as plt\n",
    "plt.figure(figsize=(12,6))\n",
    "plt.plot(star.phases/2/np.pi, (lcs-1).sum(axis=1), c=\"k\")\n",
    "plt.xlim(0,1)\n",
    "plt.xlabel(\"stellar rotational phase\", fontsize=14)\n",
    "plt.ylabel(\"relative stellar flux\", fontsize=14)\n",
    "plt.legend(fontsize=15, loc=1, frameon=False);\n",
    "# plt.yscale(\"log\")\n",
    "plt.title(f\"{n_spots} flaring spots between {min_latitude:2d} and {max_latitude:2d} deg latitude,\"\n",
    "          f\" at {n_inclinations:2d} different inclinations\\n\"\n",
    "          f\"same flaring properties per spot, but not the same exact flares\\n\"\n",
    "          f\"sum of  signal, beta={beta[0]:.1f}\", fontsize=15)\n",
    "plt.savefig(f\"plots/2021_12_20_{n_spots}_spots_distribution_{min_latitude:2d}_{max_latitude:2d}_\"\n",
    "            f\"sum_{n_inclinations:2d}_{beta[0]:.1f}_3.png\", dpi=300);"
   ]
  },
  {
   "cell_type": "code",
   "execution_count": null,
   "metadata": {},
   "outputs": [],
   "source": []
  }
 ],
 "metadata": {
  "kernelspec": {
   "display_name": "fleck38",
   "language": "python",
   "name": "fleck38"
  },
  "language_info": {
   "codemirror_mode": {
    "name": "ipython",
    "version": 3
   },
   "file_extension": ".py",
   "mimetype": "text/x-python",
   "name": "python",
   "nbconvert_exporter": "python",
   "pygments_lexer": "ipython3",
   "version": "3.8.0"
  }
 },
 "nbformat": 4,
 "nbformat_minor": 2
}
