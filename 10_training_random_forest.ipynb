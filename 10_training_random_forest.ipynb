{
 "cells": [
  {
   "cell_type": "code",
   "execution_count": 5,
   "metadata": {},
   "outputs": [],
   "source": [
    "import numpy as np\n",
    "import pandas as pd\n",
    "\n",
    "# Fitting Random Forest Regression to the dataset\n",
    "# import the regressor\n",
    "from sklearn.ensemble import RandomForestRegressor\n",
    "%matplotlib inline\n",
    "import matplotlib.pyplot as plt"
   ]
  },
  {
   "cell_type": "code",
   "execution_count": 8,
   "metadata": {},
   "outputs": [
    {
     "data": {
      "text/plain": [
       "array(4)"
      ]
     },
     "execution_count": 8,
     "metadata": {},
     "output_type": "execute_result"
    }
   ],
   "source": [
    "a = 4\n",
    "np.asarray(a)"
   ]
  },
  {
   "cell_type": "code",
   "execution_count": 134,
   "metadata": {},
   "outputs": [
    {
     "data": {
      "text/html": [
       "<div>\n",
       "<style scoped>\n",
       "    .dataframe tbody tr th:only-of-type {\n",
       "        vertical-align: middle;\n",
       "    }\n",
       "\n",
       "    .dataframe tbody tr th {\n",
       "        vertical-align: top;\n",
       "    }\n",
       "\n",
       "    .dataframe thead th {\n",
       "        text-align: right;\n",
       "    }\n",
       "</style>\n",
       "<table border=\"1\" class=\"dataframe\">\n",
       "  <thead>\n",
       "    <tr style=\"text-align: right;\">\n",
       "      <th></th>\n",
       "      <th>midlat_deg.1</th>\n",
       "      <th>nflares</th>\n",
       "      <th>ed_rec_mean</th>\n",
       "      <th>ed_rec_median</th>\n",
       "      <th>ed_rec_std</th>\n",
       "      <th>ed_rec_min</th>\n",
       "      <th>ed_rec_max</th>\n",
       "      <th>diff_ed_rec_mean_stepsize1</th>\n",
       "      <th>diff_ed_rec_median_stepsize1</th>\n",
       "      <th>diff_ed_rec_std_stepsize1</th>\n",
       "      <th>...</th>\n",
       "      <th>diff_amp_over_ed_rec_mean_stepsize2</th>\n",
       "      <th>diff_amp_over_ed_rec_median_stepsize2</th>\n",
       "      <th>diff_amp_over_ed_rec_std_stepsize2</th>\n",
       "      <th>diff_amp_over_ed_rec_min_stepsize2</th>\n",
       "      <th>diff_amp_over_ed_rec_max_stepsize2</th>\n",
       "      <th>diff_amp_over_ed_rec_mean_stepsize3</th>\n",
       "      <th>diff_amp_over_ed_rec_median_stepsize3</th>\n",
       "      <th>diff_amp_over_ed_rec_std_stepsize3</th>\n",
       "      <th>diff_amp_over_ed_rec_min_stepsize3</th>\n",
       "      <th>diff_amp_over_ed_rec_max_stepsize3</th>\n",
       "    </tr>\n",
       "  </thead>\n",
       "  <tbody>\n",
       "    <tr>\n",
       "      <th>0</th>\n",
       "      <td>0.095595</td>\n",
       "      <td>8.146893</td>\n",
       "      <td>0.000018</td>\n",
       "      <td>6.241576e-07</td>\n",
       "      <td>0.000045</td>\n",
       "      <td>1.045664e-07</td>\n",
       "      <td>0.000113</td>\n",
       "      <td>-1.602682e-05</td>\n",
       "      <td>1.235303e-08</td>\n",
       "      <td>0.000063</td>\n",
       "      <td>...</td>\n",
       "      <td>0.000006</td>\n",
       "      <td>2.387298e-05</td>\n",
       "      <td>0.000568</td>\n",
       "      <td>-0.000730</td>\n",
       "      <td>0.000719</td>\n",
       "      <td>0.000010</td>\n",
       "      <td>0.000024</td>\n",
       "      <td>0.000574</td>\n",
       "      <td>-0.000680</td>\n",
       "      <td>0.000656</td>\n",
       "    </tr>\n",
       "    <tr>\n",
       "      <th>1</th>\n",
       "      <td>0.275712</td>\n",
       "      <td>7.882653</td>\n",
       "      <td>0.000009</td>\n",
       "      <td>6.753805e-07</td>\n",
       "      <td>0.000026</td>\n",
       "      <td>1.327221e-07</td>\n",
       "      <td>0.000079</td>\n",
       "      <td>1.144682e-06</td>\n",
       "      <td>1.274252e-07</td>\n",
       "      <td>0.000042</td>\n",
       "      <td>...</td>\n",
       "      <td>-0.000003</td>\n",
       "      <td>6.575006e-07</td>\n",
       "      <td>0.000561</td>\n",
       "      <td>-0.000697</td>\n",
       "      <td>0.000671</td>\n",
       "      <td>0.000030</td>\n",
       "      <td>0.000013</td>\n",
       "      <td>0.000553</td>\n",
       "      <td>-0.000608</td>\n",
       "      <td>0.000673</td>\n",
       "    </tr>\n",
       "    <tr>\n",
       "      <th>2</th>\n",
       "      <td>0.456184</td>\n",
       "      <td>8.174863</td>\n",
       "      <td>0.000006</td>\n",
       "      <td>6.670946e-07</td>\n",
       "      <td>0.000017</td>\n",
       "      <td>1.941016e-07</td>\n",
       "      <td>0.000051</td>\n",
       "      <td>-2.959268e-07</td>\n",
       "      <td>-2.292628e-07</td>\n",
       "      <td>0.000027</td>\n",
       "      <td>...</td>\n",
       "      <td>-0.000002</td>\n",
       "      <td>-9.835221e-06</td>\n",
       "      <td>0.000546</td>\n",
       "      <td>-0.000677</td>\n",
       "      <td>0.000671</td>\n",
       "      <td>0.000013</td>\n",
       "      <td>0.000026</td>\n",
       "      <td>0.000530</td>\n",
       "      <td>-0.000622</td>\n",
       "      <td>0.000617</td>\n",
       "    </tr>\n",
       "    <tr>\n",
       "      <th>3</th>\n",
       "      <td>0.641202</td>\n",
       "      <td>8.059701</td>\n",
       "      <td>0.000009</td>\n",
       "      <td>7.345617e-07</td>\n",
       "      <td>0.000027</td>\n",
       "      <td>1.335658e-07</td>\n",
       "      <td>0.000089</td>\n",
       "      <td>1.149207e-06</td>\n",
       "      <td>9.070888e-07</td>\n",
       "      <td>0.000043</td>\n",
       "      <td>...</td>\n",
       "      <td>-0.000006</td>\n",
       "      <td>2.172339e-05</td>\n",
       "      <td>0.000579</td>\n",
       "      <td>-0.000729</td>\n",
       "      <td>0.000677</td>\n",
       "      <td>0.000006</td>\n",
       "      <td>0.000017</td>\n",
       "      <td>0.000561</td>\n",
       "      <td>-0.000675</td>\n",
       "      <td>0.000673</td>\n",
       "    </tr>\n",
       "    <tr>\n",
       "      <th>4</th>\n",
       "      <td>0.815364</td>\n",
       "      <td>8.990148</td>\n",
       "      <td>0.000059</td>\n",
       "      <td>6.358832e-07</td>\n",
       "      <td>0.000202</td>\n",
       "      <td>1.007228e-07</td>\n",
       "      <td>0.000651</td>\n",
       "      <td>-2.001161e-07</td>\n",
       "      <td>-2.590978e-08</td>\n",
       "      <td>0.000328</td>\n",
       "      <td>...</td>\n",
       "      <td>-0.000021</td>\n",
       "      <td>-3.182196e-05</td>\n",
       "      <td>0.000558</td>\n",
       "      <td>-0.000737</td>\n",
       "      <td>0.000688</td>\n",
       "      <td>-0.000008</td>\n",
       "      <td>0.000004</td>\n",
       "      <td>0.000539</td>\n",
       "      <td>-0.000679</td>\n",
       "      <td>0.000653</td>\n",
       "    </tr>\n",
       "  </tbody>\n",
       "</table>\n",
       "<p>5 rows × 122 columns</p>\n",
       "</div>"
      ],
      "text/plain": [
       "   midlat_deg.1   nflares  ed_rec_mean  ed_rec_median  ed_rec_std  \\\n",
       "0      0.095595  8.146893     0.000018   6.241576e-07    0.000045   \n",
       "1      0.275712  7.882653     0.000009   6.753805e-07    0.000026   \n",
       "2      0.456184  8.174863     0.000006   6.670946e-07    0.000017   \n",
       "3      0.641202  8.059701     0.000009   7.345617e-07    0.000027   \n",
       "4      0.815364  8.990148     0.000059   6.358832e-07    0.000202   \n",
       "\n",
       "     ed_rec_min  ed_rec_max  diff_ed_rec_mean_stepsize1  \\\n",
       "0  1.045664e-07    0.000113               -1.602682e-05   \n",
       "1  1.327221e-07    0.000079                1.144682e-06   \n",
       "2  1.941016e-07    0.000051               -2.959268e-07   \n",
       "3  1.335658e-07    0.000089                1.149207e-06   \n",
       "4  1.007228e-07    0.000651               -2.001161e-07   \n",
       "\n",
       "   diff_ed_rec_median_stepsize1  diff_ed_rec_std_stepsize1  ...  \\\n",
       "0                  1.235303e-08                   0.000063  ...   \n",
       "1                  1.274252e-07                   0.000042  ...   \n",
       "2                 -2.292628e-07                   0.000027  ...   \n",
       "3                  9.070888e-07                   0.000043  ...   \n",
       "4                 -2.590978e-08                   0.000328  ...   \n",
       "\n",
       "   diff_amp_over_ed_rec_mean_stepsize2  diff_amp_over_ed_rec_median_stepsize2  \\\n",
       "0                             0.000006                           2.387298e-05   \n",
       "1                            -0.000003                           6.575006e-07   \n",
       "2                            -0.000002                          -9.835221e-06   \n",
       "3                            -0.000006                           2.172339e-05   \n",
       "4                            -0.000021                          -3.182196e-05   \n",
       "\n",
       "   diff_amp_over_ed_rec_std_stepsize2  diff_amp_over_ed_rec_min_stepsize2  \\\n",
       "0                            0.000568                           -0.000730   \n",
       "1                            0.000561                           -0.000697   \n",
       "2                            0.000546                           -0.000677   \n",
       "3                            0.000579                           -0.000729   \n",
       "4                            0.000558                           -0.000737   \n",
       "\n",
       "   diff_amp_over_ed_rec_max_stepsize2  diff_amp_over_ed_rec_mean_stepsize3  \\\n",
       "0                            0.000719                             0.000010   \n",
       "1                            0.000671                             0.000030   \n",
       "2                            0.000671                             0.000013   \n",
       "3                            0.000677                             0.000006   \n",
       "4                            0.000688                            -0.000008   \n",
       "\n",
       "   diff_amp_over_ed_rec_median_stepsize3  diff_amp_over_ed_rec_std_stepsize3  \\\n",
       "0                               0.000024                            0.000574   \n",
       "1                               0.000013                            0.000553   \n",
       "2                               0.000026                            0.000530   \n",
       "3                               0.000017                            0.000561   \n",
       "4                               0.000004                            0.000539   \n",
       "\n",
       "   diff_amp_over_ed_rec_min_stepsize3  diff_amp_over_ed_rec_max_stepsize3  \n",
       "0                           -0.000680                            0.000656  \n",
       "1                           -0.000608                            0.000673  \n",
       "2                           -0.000622                            0.000617  \n",
       "3                           -0.000675                            0.000673  \n",
       "4                           -0.000679                            0.000653  \n",
       "\n",
       "[5 rows x 122 columns]"
      ]
     },
     "execution_count": 134,
     "metadata": {},
     "output_type": "execute_result"
    }
   ],
   "source": [
    "df = pd.read_csv(\"results/2022_01_10_aggregate.csv\")\n",
    "# df = df.groupby(\"midlat_deg\").mean()\n",
    "del df[\"midlat_deg\"]\n",
    "df.head()"
   ]
  },
  {
   "cell_type": "code",
   "execution_count": 135,
   "metadata": {},
   "outputs": [
    {
     "data": {
      "text/plain": [
       "array(['dur_over_amp_std', 'diff_dur_over_amp_mean_stepsize1',\n",
       "       'diff_dur_over_amp_median_stepsize1',\n",
       "       'diff_dur_over_amp_std_stepsize1',\n",
       "       'diff_dur_over_amp_min_stepsize1',\n",
       "       'diff_dur_over_amp_max_stepsize1',\n",
       "       'diff_dur_over_amp_mean_stepsize2',\n",
       "       'diff_dur_over_amp_median_stepsize2',\n",
       "       'diff_dur_over_amp_std_stepsize2',\n",
       "       'diff_dur_over_amp_min_stepsize2',\n",
       "       'diff_dur_over_amp_max_stepsize2',\n",
       "       'diff_dur_over_amp_mean_stepsize3',\n",
       "       'diff_dur_over_amp_median_stepsize3',\n",
       "       'diff_dur_over_amp_std_stepsize3',\n",
       "       'diff_dur_over_amp_min_stepsize3',\n",
       "       'diff_dur_over_amp_max_stepsize3', 'dur_over_ed_rec_std',\n",
       "       'diff_dur_over_ed_rec_mean_stepsize1',\n",
       "       'diff_dur_over_ed_rec_median_stepsize1',\n",
       "       'diff_dur_over_ed_rec_std_stepsize1',\n",
       "       'diff_dur_over_ed_rec_min_stepsize1',\n",
       "       'diff_dur_over_ed_rec_max_stepsize1',\n",
       "       'diff_dur_over_ed_rec_mean_stepsize2',\n",
       "       'diff_dur_over_ed_rec_median_stepsize2',\n",
       "       'diff_dur_over_ed_rec_std_stepsize2',\n",
       "       'diff_dur_over_ed_rec_min_stepsize2',\n",
       "       'diff_dur_over_ed_rec_max_stepsize2',\n",
       "       'diff_dur_over_ed_rec_mean_stepsize3',\n",
       "       'diff_dur_over_ed_rec_median_stepsize3',\n",
       "       'diff_dur_over_ed_rec_std_stepsize3',\n",
       "       'diff_dur_over_ed_rec_min_stepsize3',\n",
       "       'diff_dur_over_ed_rec_max_stepsize3', 'amp_over_ed_rec_std',\n",
       "       'diff_amp_over_ed_rec_mean_stepsize1',\n",
       "       'diff_amp_over_ed_rec_median_stepsize1',\n",
       "       'diff_amp_over_ed_rec_std_stepsize1',\n",
       "       'diff_amp_over_ed_rec_min_stepsize1',\n",
       "       'diff_amp_over_ed_rec_max_stepsize1',\n",
       "       'diff_amp_over_ed_rec_mean_stepsize2',\n",
       "       'diff_amp_over_ed_rec_median_stepsize2',\n",
       "       'diff_amp_over_ed_rec_std_stepsize2',\n",
       "       'diff_amp_over_ed_rec_min_stepsize2',\n",
       "       'diff_amp_over_ed_rec_max_stepsize2',\n",
       "       'diff_amp_over_ed_rec_mean_stepsize3',\n",
       "       'diff_amp_over_ed_rec_median_stepsize3',\n",
       "       'diff_amp_over_ed_rec_std_stepsize3',\n",
       "       'diff_amp_over_ed_rec_min_stepsize3',\n",
       "       'diff_amp_over_ed_rec_max_stepsize3'], dtype=object)"
      ]
     },
     "execution_count": 135,
     "metadata": {},
     "output_type": "execute_result"
    }
   ],
   "source": [
    "colids = np.where([(\"over\" in x) & ((\"std\" in x) | (\"diff\" in x))for x in  df.columns.values])[0]\n",
    "columns = df.columns.values[colids]\n",
    "columns"
   ]
  },
  {
   "cell_type": "code",
   "execution_count": 136,
   "metadata": {},
   "outputs": [],
   "source": [
    "df = df.fillna(-999)"
   ]
  },
  {
   "cell_type": "code",
   "execution_count": 137,
   "metadata": {},
   "outputs": [
    {
     "data": {
      "text/plain": [
       "(496, 48)"
      ]
     },
     "execution_count": 137,
     "metadata": {},
     "output_type": "execute_result"
    }
   ],
   "source": [
    "x = df[columns].values \n",
    "x.shape"
   ]
  },
  {
   "cell_type": "code",
   "execution_count": 138,
   "metadata": {},
   "outputs": [],
   "source": [
    "y = df[\"midlat_deg.1\"].values"
   ]
  },
  {
   "cell_type": "code",
   "execution_count": 139,
   "metadata": {},
   "outputs": [
    {
     "data": {
      "text/plain": [
       "RandomForestRegressor(random_state=0)"
      ]
     },
     "execution_count": 139,
     "metadata": {},
     "output_type": "execute_result"
    }
   ],
   "source": [
    " # create regressor object\n",
    "regressor = RandomForestRegressor(n_estimators = 100, random_state = 0)\n",
    "  \n",
    "# fit the regressor with x and y data\n",
    "regressor.fit(x, y) "
   ]
  },
  {
   "cell_type": "code",
   "execution_count": 140,
   "metadata": {},
   "outputs": [],
   "source": [
    "# read validation data\n",
    "valid = pd.read_csv(\"results/2022_01_07_aggregate_validate.csv\")"
   ]
  },
  {
   "cell_type": "code",
   "execution_count": 141,
   "metadata": {},
   "outputs": [
    {
     "data": {
      "text/plain": [
       "(48, 48)"
      ]
     },
     "execution_count": 141,
     "metadata": {},
     "output_type": "execute_result"
    }
   ],
   "source": [
    "valid = valid.fillna(-999)\n",
    "\n",
    "# del valid[\"inclination_deg\"]\n",
    "# del valid[\"nflares\"]\n",
    "# valid = valid.groupby(\"midlat_deg\").mean()\n",
    "# del valid[\"midlat_deg\"]\n",
    "validx = valid[columns].values \n",
    "validy = valid['midlat_deg.1'].values\n",
    "validx.shape"
   ]
  },
  {
   "cell_type": "code",
   "execution_count": 142,
   "metadata": {},
   "outputs": [],
   "source": [
    "predictions = regressor.predict(validx)"
   ]
  },
  {
   "cell_type": "code",
   "execution_count": 143,
   "metadata": {},
   "outputs": [],
   "source": [
    "errors = predictions - validy"
   ]
  },
  {
   "cell_type": "code",
   "execution_count": 144,
   "metadata": {},
   "outputs": [
    {
     "data": {
      "text/plain": [
       "Text(0, 0.5, 'prediction')"
      ]
     },
     "execution_count": 144,
     "metadata": {},
     "output_type": "execute_result"
    },
    {
     "data": {
      "image/png": "[encoded data removed]",
      "text/plain": [
       "<Figure size 360x288 with 1 Axes>"
      ]
     },
     "metadata": {
      "needs_background": "light"
     },
     "output_type": "display_data"
    }
   ],
   "source": [
    "plt.figure(figsize=(5,4))\n",
    "plt.scatter(validy, predictions, marker=\"x\",c=\"grey\")\n",
    "plt.plot([0,90],[0,90],c=\"k\",linestyle=\"dashed\")\n",
    "plt.xlim(0,90)\n",
    "plt.ylim(0,90)\n",
    "plt.xlabel(\"true latitude\")\n",
    "plt.ylabel(\"prediction\")"
   ]
  },
  {
   "cell_type": "code",
   "execution_count": 145,
   "metadata": {},
   "outputs": [
    {
     "data": {
      "text/plain": [
       "Index(['midlat_deg', 'midlat_deg.1', 'nflares', 'ed_rec_mean', 'ed_rec_median',\n",
       "       'ed_rec_std', 'ed_rec_min', 'ed_rec_max', 'diff_ed_rec_mean_stepsize1',\n",
       "       'diff_ed_rec_median_stepsize1',\n",
       "       ...\n",
       "       'diff_amp_over_ed_rec_mean_stepsize2',\n",
       "       'diff_amp_over_ed_rec_median_stepsize2',\n",
       "       'diff_amp_over_ed_rec_std_stepsize2',\n",
       "       'diff_amp_over_ed_rec_min_stepsize2',\n",
       "       'diff_amp_over_ed_rec_max_stepsize2',\n",
       "       'diff_amp_over_ed_rec_mean_stepsize3',\n",
       "       'diff_amp_over_ed_rec_median_stepsize3',\n",
       "       'diff_amp_over_ed_rec_std_stepsize3',\n",
       "       'diff_amp_over_ed_rec_min_stepsize3',\n",
       "       'diff_amp_over_ed_rec_max_stepsize3'],\n",
       "      dtype='object', length=123)"
      ]
     },
     "execution_count": 145,
     "metadata": {},
     "output_type": "execute_result"
    }
   ],
   "source": [
    "valid.columns"
   ]
  },
  {
   "cell_type": "code",
   "execution_count": 146,
   "metadata": {},
   "outputs": [],
   "source": [
    "feature_list = list(valid[columns].columns.values)"
   ]
  },
  {
   "cell_type": "code",
   "execution_count": 147,
   "metadata": {
    "scrolled": false
   },
   "outputs": [
    {
     "name": "stdout",
     "output_type": "stream",
     "text": [
      "Variable: diff_dur_over_ed_rec_min_stepsize2 Importance: 0.19\n",
      "Variable: diff_amp_over_ed_rec_max_stepsize3 Importance: 0.16\n",
      "Variable: diff_dur_over_ed_rec_max_stepsize3 Importance: 0.14\n",
      "Variable: diff_amp_over_ed_rec_min_stepsize2 Importance: 0.11\n",
      "Variable: diff_dur_over_amp_std_stepsize3 Importance: 0.06\n",
      "Variable: dur_over_amp_std     Importance: 0.05\n",
      "Variable: diff_dur_over_ed_rec_max_stepsize2 Importance: 0.04\n",
      "Variable: diff_amp_over_ed_rec_min_stepsize3 Importance: 0.04\n",
      "Variable: diff_dur_over_ed_rec_min_stepsize3 Importance: 0.03\n",
      "Variable: diff_dur_over_ed_rec_min_stepsize1 Importance: 0.02\n",
      "Variable: diff_dur_over_ed_rec_max_stepsize1 Importance: 0.02\n",
      "Variable: diff_amp_over_ed_rec_max_stepsize1 Importance: 0.02\n",
      "Variable: diff_amp_over_ed_rec_max_stepsize2 Importance: 0.02\n",
      "Variable: diff_dur_over_amp_std_stepsize2 Importance: 0.01\n",
      "Variable: diff_amp_over_ed_rec_min_stepsize1 Importance: 0.01\n",
      "Variable: diff_dur_over_amp_mean_stepsize1 Importance: 0.0\n",
      "Variable: diff_dur_over_amp_median_stepsize1 Importance: 0.0\n",
      "Variable: diff_dur_over_amp_std_stepsize1 Importance: 0.0\n",
      "Variable: diff_dur_over_amp_min_stepsize1 Importance: 0.0\n",
      "Variable: diff_dur_over_amp_max_stepsize1 Importance: 0.0\n",
      "Variable: diff_dur_over_amp_mean_stepsize2 Importance: 0.0\n",
      "Variable: diff_dur_over_amp_median_stepsize2 Importance: 0.0\n",
      "Variable: diff_dur_over_amp_min_stepsize2 Importance: 0.0\n",
      "Variable: diff_dur_over_amp_max_stepsize2 Importance: 0.0\n",
      "Variable: diff_dur_over_amp_mean_stepsize3 Importance: 0.0\n",
      "Variable: diff_dur_over_amp_median_stepsize3 Importance: 0.0\n",
      "Variable: diff_dur_over_amp_min_stepsize3 Importance: 0.0\n",
      "Variable: diff_dur_over_amp_max_stepsize3 Importance: 0.0\n",
      "Variable: dur_over_ed_rec_std  Importance: 0.0\n",
      "Variable: diff_dur_over_ed_rec_mean_stepsize1 Importance: 0.0\n",
      "Variable: diff_dur_over_ed_rec_median_stepsize1 Importance: 0.0\n",
      "Variable: diff_dur_over_ed_rec_std_stepsize1 Importance: 0.0\n",
      "Variable: diff_dur_over_ed_rec_mean_stepsize2 Importance: 0.0\n",
      "Variable: diff_dur_over_ed_rec_median_stepsize2 Importance: 0.0\n",
      "Variable: diff_dur_over_ed_rec_std_stepsize2 Importance: 0.0\n",
      "Variable: diff_dur_over_ed_rec_mean_stepsize3 Importance: 0.0\n",
      "Variable: diff_dur_over_ed_rec_median_stepsize3 Importance: 0.0\n",
      "Variable: diff_dur_over_ed_rec_std_stepsize3 Importance: 0.0\n",
      "Variable: amp_over_ed_rec_std  Importance: 0.0\n",
      "Variable: diff_amp_over_ed_rec_mean_stepsize1 Importance: 0.0\n",
      "Variable: diff_amp_over_ed_rec_median_stepsize1 Importance: 0.0\n",
      "Variable: diff_amp_over_ed_rec_std_stepsize1 Importance: 0.0\n",
      "Variable: diff_amp_over_ed_rec_mean_stepsize2 Importance: 0.0\n",
      "Variable: diff_amp_over_ed_rec_median_stepsize2 Importance: 0.0\n",
      "Variable: diff_amp_over_ed_rec_std_stepsize2 Importance: 0.0\n",
      "Variable: diff_amp_over_ed_rec_mean_stepsize3 Importance: 0.0\n",
      "Variable: diff_amp_over_ed_rec_median_stepsize3 Importance: 0.0\n",
      "Variable: diff_amp_over_ed_rec_std_stepsize3 Importance: 0.0\n"
     ]
    }
   ],
   "source": [
    "# Get numerical feature importances\n",
    "importances = list(regressor.feature_importances_)\n",
    "# List of tuples with variable and importance\n",
    "feature_importances = [(feature, round(importance, 2)) for feature, importance in zip(feature_list, importances)]\n",
    "# Sort the feature importances by most important first\n",
    "feature_importances = sorted(feature_importances, key = lambda x: x[1], reverse = True)\n",
    "# Print out the feature and importances \n",
    "[print('Variable: {:20} Importance: {}'.format(*pair)) for pair in feature_importances];"
   ]
  },
  {
   "cell_type": "code",
   "execution_count": 1,
   "metadata": {},
   "outputs": [],
   "source": [
    "import dask"
   ]
  },
  {
   "cell_type": "code",
   "execution_count": null,
   "metadata": {},
   "outputs": [],
   "source": []
  }
 ],
 "metadata": {
  "kernelspec": {
   "display_name": "Python 3 (ipykernel)",
   "language": "python",
   "name": "python3"
  },
  "language_info": {
   "codemirror_mode": {
    "name": "ipython",
    "version": 3
   },
   "file_extension": ".py",
   "mimetype": "text/x-python",
   "name": "python",
   "nbconvert_exporter": "python",
   "pygments_lexer": "ipython3",
   "version": "3.9.7"
  }
 },
 "nbformat": 4,
 "nbformat_minor": 2
}
