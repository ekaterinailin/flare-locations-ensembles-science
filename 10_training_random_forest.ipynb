{
 "cells": [
  {
   "cell_type": "code",
   "execution_count": 17,
   "metadata": {},
   "outputs": [],
   "source": [
    "import numpy as np\n",
    "import pandas as pd\n",
    "\n",
    "# Fitting Random Forest Regression to the dataset\n",
    "# import the regressor\n",
    "from sklearn.ensemble import RandomForestRegressor\n",
    "\n",
    "import matplotlib.pyplot as plt"
   ]
  },
  {
   "cell_type": "code",
   "execution_count": 32,
   "metadata": {},
   "outputs": [
    {
     "data": {
      "text/plain": [
       "(16200, 123)"
      ]
     },
     "execution_count": 32,
     "metadata": {},
     "output_type": "execute_result"
    }
   ],
   "source": [
    "df.shape"
   ]
  },
  {
   "cell_type": "code",
   "execution_count": 118,
   "metadata": {},
   "outputs": [],
   "source": [
    "df = pd.read_csv(\"results/2022_01_06_training_set.csv\")\n",
    "df = df.groupby(\"midlat_deg\").mean()\n",
    "del df[\"inclination_deg\"]\n",
    "# del df[\"nflares\"]"
   ]
  },
  {
   "cell_type": "code",
   "execution_count": 119,
   "metadata": {},
   "outputs": [],
   "source": [
    "df = df.reset_index()"
   ]
  },
  {
   "cell_type": "code",
   "execution_count": 120,
   "metadata": {},
   "outputs": [],
   "source": [
    "df = df.fillna(-999)"
   ]
  },
  {
   "cell_type": "code",
   "execution_count": 121,
   "metadata": {},
   "outputs": [
    {
     "data": {
      "text/plain": [
       "Index(['nflares', 'ed_rec_mean', 'ed_rec_median', 'ed_rec_std', 'ed_rec_min',\n",
       "       'ed_rec_max', 'diff_ed_rec_mean_stepsize1',\n",
       "       'diff_ed_rec_median_stepsize1', 'diff_ed_rec_std_stepsize1',\n",
       "       'diff_ed_rec_min_stepsize1',\n",
       "       ...\n",
       "       'diff_amp_over_ed_rec_mean_stepsize2',\n",
       "       'diff_amp_over_ed_rec_median_stepsize2',\n",
       "       'diff_amp_over_ed_rec_std_stepsize2',\n",
       "       'diff_amp_over_ed_rec_min_stepsize2',\n",
       "       'diff_amp_over_ed_rec_max_stepsize2',\n",
       "       'diff_amp_over_ed_rec_mean_stepsize3',\n",
       "       'diff_amp_over_ed_rec_median_stepsize3',\n",
       "       'diff_amp_over_ed_rec_std_stepsize3',\n",
       "       'diff_amp_over_ed_rec_min_stepsize3',\n",
       "       'diff_amp_over_ed_rec_max_stepsize3'],\n",
       "      dtype='object', length=121)"
      ]
     },
     "execution_count": 121,
     "metadata": {},
     "output_type": "execute_result"
    }
   ],
   "source": [
    "df.iloc[:, 1:].columns"
   ]
  },
  {
   "cell_type": "code",
   "execution_count": 122,
   "metadata": {},
   "outputs": [
    {
     "data": {
      "text/plain": [
       "(81, 121)"
      ]
     },
     "execution_count": 122,
     "metadata": {},
     "output_type": "execute_result"
    }
   ],
   "source": [
    "x = df.iloc[:, 1:].values \n",
    "x.shape"
   ]
  },
  {
   "cell_type": "code",
   "execution_count": 123,
   "metadata": {},
   "outputs": [
    {
     "data": {
      "text/plain": [
       "array([ 5.,  6.,  7.,  8.,  9., 10., 11., 12., 13., 14., 15., 16., 17.,\n",
       "       18., 19., 20., 21., 22., 23., 24., 25., 26., 27., 28., 29., 30.,\n",
       "       31., 32., 33., 34., 35., 36., 37., 38., 39., 40., 41., 42., 43.,\n",
       "       44., 45., 46., 47., 48., 49., 50., 51., 52., 53., 54., 55., 56.,\n",
       "       57., 58., 59., 60., 61., 62., 63., 64., 65., 66., 67., 68., 69.,\n",
       "       70., 71., 72., 73., 74., 75., 76., 77., 78., 79., 80., 81., 82.,\n",
       "       83., 84., 85.])"
      ]
     },
     "execution_count": 123,
     "metadata": {},
     "output_type": "execute_result"
    }
   ],
   "source": [
    "y = df.reset_index().midlat_deg.values\n",
    "y"
   ]
  },
  {
   "cell_type": "code",
   "execution_count": 124,
   "metadata": {},
   "outputs": [
    {
     "data": {
      "text/plain": [
       "RandomForestRegressor(random_state=0)"
      ]
     },
     "execution_count": 124,
     "metadata": {},
     "output_type": "execute_result"
    }
   ],
   "source": [
    " # create regressor object\n",
    "regressor = RandomForestRegressor(n_estimators = 100, random_state = 0)\n",
    "  \n",
    "# fit the regressor with x and y data\n",
    "regressor.fit(x, y) "
   ]
  },
  {
   "cell_type": "code",
   "execution_count": 125,
   "metadata": {},
   "outputs": [],
   "source": [
    "# read validation data\n",
    "valid = pd.read_csv(\"results/2022_01_06_validation_set.csv\")"
   ]
  },
  {
   "cell_type": "code",
   "execution_count": 126,
   "metadata": {},
   "outputs": [
    {
     "data": {
      "text/plain": [
       "array([ 5.        ,  7.05128205,  9.1025641 , 11.15384615, 13.20512821,\n",
       "       15.25641026, 17.30769231, 19.35897436, 21.41025641, 23.46153846,\n",
       "       25.51282051, 27.56410256, 29.61538462, 31.66666667, 33.71794872,\n",
       "       35.76923077, 37.82051282, 39.87179487, 41.92307692, 43.97435897,\n",
       "       46.02564103, 48.07692308, 50.12820513, 52.17948718, 54.23076923,\n",
       "       56.28205128, 58.33333333, 60.38461538, 62.43589744, 64.48717949,\n",
       "       66.53846154, 68.58974359, 70.64102564, 72.69230769, 74.74358974,\n",
       "       76.79487179, 78.84615385, 80.8974359 , 82.94871795, 85.        ])"
      ]
     },
     "execution_count": 126,
     "metadata": {},
     "output_type": "execute_result"
    }
   ],
   "source": [
    "valid = valid.fillna(-999)\n",
    "\n",
    "del valid[\"inclination_deg\"]\n",
    "# del valid[\"nflares\"]\n",
    "valid = valid.groupby(\"midlat_deg\").mean()\n",
    "validx = valid.iloc[:, :].values \n",
    "validy = valid.reset_index().midlat_deg.values\n",
    "validy"
   ]
  },
  {
   "cell_type": "code",
   "execution_count": 127,
   "metadata": {},
   "outputs": [
    {
     "data": {
      "text/plain": [
       "(40, 121)"
      ]
     },
     "execution_count": 127,
     "metadata": {},
     "output_type": "execute_result"
    }
   ],
   "source": [
    "validx.shape"
   ]
  },
  {
   "cell_type": "code",
   "execution_count": 128,
   "metadata": {},
   "outputs": [],
   "source": [
    "y = df.reset_index().midlat_deg.values\n"
   ]
  },
  {
   "cell_type": "code",
   "execution_count": 129,
   "metadata": {},
   "outputs": [],
   "source": [
    "predictions = regressor.predict(validx)"
   ]
  },
  {
   "cell_type": "code",
   "execution_count": 130,
   "metadata": {},
   "outputs": [],
   "source": [
    "errors = predictions - validy"
   ]
  },
  {
   "cell_type": "code",
   "execution_count": 131,
   "metadata": {},
   "outputs": [
    {
     "data": {
      "text/plain": [
       "Text(0, 0.5, 'prediction')"
      ]
     },
     "execution_count": 131,
     "metadata": {},
     "output_type": "execute_result"
    },
    {
     "data": {
      "image/png": "[encoded data removed]",
      "text/plain": [
       "<Figure size 432x288 with 1 Axes>"
      ]
     },
     "metadata": {
      "needs_background": "light"
     },
     "output_type": "display_data"
    }
   ],
   "source": [
    "%matplotlib inline\n",
    "plt.scatter(validy, predictions)\n",
    "plt.plot([0,90],[0,90])\n",
    "plt.xlim(0,90)\n",
    "plt.ylim(0,90)\n",
    "plt.xlabel(\"true latitude\")\n",
    "plt.ylabel(\"prediction\")"
   ]
  },
  {
   "cell_type": "code",
   "execution_count": 113,
   "metadata": {},
   "outputs": [],
   "source": [
    "feature_list = list(valid.iloc[:, 2:].columns.values)"
   ]
  },
  {
   "cell_type": "code",
   "execution_count": 114,
   "metadata": {
    "scrolled": false
   },
   "outputs": [
    {
     "name": "stdout",
     "output_type": "stream",
     "text": [
      "Variable: amp_over_ed_rec_mean Importance: 0.27\n",
      "Variable: diff_dur_over_ed_rec_median_stepsize3 Importance: 0.04\n",
      "Variable: dur_over_amp_mean    Importance: 0.03\n",
      "Variable: diff_dur_over_ed_rec_mean_stepsize3 Importance: 0.03\n",
      "Variable: diff_amp_over_ed_rec_median_stepsize1 Importance: 0.03\n",
      "Variable: diff_amp_over_ed_rec_median_stepsize3 Importance: 0.03\n",
      "Variable: amp_over_ed_rec_median Importance: 0.02\n",
      "Variable: diff_amp_over_ed_rec_mean_stepsize2 Importance: 0.02\n",
      "Variable: diff_amp_over_ed_rec_mean_stepsize3 Importance: 0.02\n",
      "Variable: dur_max              Importance: 0.01\n",
      "Variable: dur_over_amp_median  Importance: 0.01\n",
      "Variable: dur_over_amp_min     Importance: 0.01\n",
      "Variable: diff_dur_over_amp_mean_stepsize1 Importance: 0.01\n",
      "Variable: diff_dur_over_ed_rec_median_stepsize1 Importance: 0.01\n",
      "Variable: diff_dur_over_ed_rec_mean_stepsize2 Importance: 0.01\n",
      "Variable: ed_rec_std           Importance: 0.0\n",
      "Variable: ed_rec_min           Importance: 0.0\n",
      "Variable: ed_rec_max           Importance: 0.0\n",
      "Variable: diff_ed_rec_mean_stepsize1 Importance: 0.0\n",
      "Variable: diff_ed_rec_median_stepsize1 Importance: 0.0\n",
      "Variable: diff_ed_rec_std_stepsize1 Importance: 0.0\n",
      "Variable: diff_ed_rec_min_stepsize1 Importance: 0.0\n",
      "Variable: diff_ed_rec_max_stepsize1 Importance: 0.0\n",
      "Variable: diff_ed_rec_mean_stepsize2 Importance: 0.0\n",
      "Variable: diff_ed_rec_median_stepsize2 Importance: 0.0\n",
      "Variable: diff_ed_rec_std_stepsize2 Importance: 0.0\n",
      "Variable: diff_ed_rec_min_stepsize2 Importance: 0.0\n",
      "Variable: diff_ed_rec_max_stepsize2 Importance: 0.0\n",
      "Variable: diff_ed_rec_mean_stepsize3 Importance: 0.0\n",
      "Variable: diff_ed_rec_median_stepsize3 Importance: 0.0\n",
      "Variable: diff_ed_rec_std_stepsize3 Importance: 0.0\n",
      "Variable: diff_ed_rec_min_stepsize3 Importance: 0.0\n",
      "Variable: diff_ed_rec_max_stepsize3 Importance: 0.0\n",
      "Variable: ampl_rec_mean        Importance: 0.0\n",
      "Variable: ampl_rec_median      Importance: 0.0\n",
      "Variable: ampl_rec_std         Importance: 0.0\n",
      "Variable: ampl_rec_min         Importance: 0.0\n",
      "Variable: ampl_rec_max         Importance: 0.0\n",
      "Variable: diff_ampl_rec_mean_stepsize1 Importance: 0.0\n",
      "Variable: diff_ampl_rec_median_stepsize1 Importance: 0.0\n",
      "Variable: diff_ampl_rec_std_stepsize1 Importance: 0.0\n",
      "Variable: diff_ampl_rec_min_stepsize1 Importance: 0.0\n",
      "Variable: diff_ampl_rec_max_stepsize1 Importance: 0.0\n",
      "Variable: diff_ampl_rec_mean_stepsize2 Importance: 0.0\n",
      "Variable: diff_ampl_rec_median_stepsize2 Importance: 0.0\n",
      "Variable: diff_ampl_rec_std_stepsize2 Importance: 0.0\n",
      "Variable: diff_ampl_rec_min_stepsize2 Importance: 0.0\n",
      "Variable: diff_ampl_rec_max_stepsize2 Importance: 0.0\n",
      "Variable: diff_ampl_rec_mean_stepsize3 Importance: 0.0\n",
      "Variable: diff_ampl_rec_median_stepsize3 Importance: 0.0\n",
      "Variable: diff_ampl_rec_std_stepsize3 Importance: 0.0\n",
      "Variable: diff_ampl_rec_min_stepsize3 Importance: 0.0\n",
      "Variable: diff_ampl_rec_max_stepsize3 Importance: 0.0\n",
      "Variable: dur_mean             Importance: 0.0\n",
      "Variable: dur_median           Importance: 0.0\n",
      "Variable: dur_std              Importance: 0.0\n",
      "Variable: dur_min              Importance: 0.0\n",
      "Variable: diff_dur_mean_stepsize1 Importance: 0.0\n",
      "Variable: diff_dur_median_stepsize1 Importance: 0.0\n",
      "Variable: diff_dur_std_stepsize1 Importance: 0.0\n",
      "Variable: diff_dur_min_stepsize1 Importance: 0.0\n",
      "Variable: diff_dur_max_stepsize1 Importance: 0.0\n",
      "Variable: diff_dur_mean_stepsize2 Importance: 0.0\n",
      "Variable: diff_dur_median_stepsize2 Importance: 0.0\n",
      "Variable: diff_dur_std_stepsize2 Importance: 0.0\n",
      "Variable: diff_dur_min_stepsize2 Importance: 0.0\n",
      "Variable: diff_dur_max_stepsize2 Importance: 0.0\n",
      "Variable: diff_dur_mean_stepsize3 Importance: 0.0\n",
      "Variable: diff_dur_median_stepsize3 Importance: 0.0\n",
      "Variable: diff_dur_std_stepsize3 Importance: 0.0\n",
      "Variable: diff_dur_min_stepsize3 Importance: 0.0\n",
      "Variable: diff_dur_max_stepsize3 Importance: 0.0\n",
      "Variable: dur_over_amp_std     Importance: 0.0\n",
      "Variable: dur_over_amp_max     Importance: 0.0\n",
      "Variable: diff_dur_over_amp_median_stepsize1 Importance: 0.0\n",
      "Variable: diff_dur_over_amp_std_stepsize1 Importance: 0.0\n",
      "Variable: diff_dur_over_amp_min_stepsize1 Importance: 0.0\n",
      "Variable: diff_dur_over_amp_max_stepsize1 Importance: 0.0\n",
      "Variable: diff_dur_over_amp_mean_stepsize2 Importance: 0.0\n",
      "Variable: diff_dur_over_amp_median_stepsize2 Importance: 0.0\n",
      "Variable: diff_dur_over_amp_std_stepsize2 Importance: 0.0\n",
      "Variable: diff_dur_over_amp_min_stepsize2 Importance: 0.0\n",
      "Variable: diff_dur_over_amp_max_stepsize2 Importance: 0.0\n",
      "Variable: diff_dur_over_amp_mean_stepsize3 Importance: 0.0\n",
      "Variable: diff_dur_over_amp_median_stepsize3 Importance: 0.0\n",
      "Variable: diff_dur_over_amp_std_stepsize3 Importance: 0.0\n",
      "Variable: diff_dur_over_amp_min_stepsize3 Importance: 0.0\n",
      "Variable: diff_dur_over_amp_max_stepsize3 Importance: 0.0\n",
      "Variable: dur_over_ed_rec_mean Importance: 0.0\n",
      "Variable: dur_over_ed_rec_median Importance: 0.0\n",
      "Variable: dur_over_ed_rec_std  Importance: 0.0\n",
      "Variable: dur_over_ed_rec_min  Importance: 0.0\n",
      "Variable: dur_over_ed_rec_max  Importance: 0.0\n",
      "Variable: diff_dur_over_ed_rec_mean_stepsize1 Importance: 0.0\n",
      "Variable: diff_dur_over_ed_rec_std_stepsize1 Importance: 0.0\n",
      "Variable: diff_dur_over_ed_rec_min_stepsize1 Importance: 0.0\n",
      "Variable: diff_dur_over_ed_rec_max_stepsize1 Importance: 0.0\n",
      "Variable: diff_dur_over_ed_rec_median_stepsize2 Importance: 0.0\n",
      "Variable: diff_dur_over_ed_rec_std_stepsize2 Importance: 0.0\n",
      "Variable: diff_dur_over_ed_rec_min_stepsize2 Importance: 0.0\n",
      "Variable: diff_dur_over_ed_rec_max_stepsize2 Importance: 0.0\n",
      "Variable: diff_dur_over_ed_rec_std_stepsize3 Importance: 0.0\n",
      "Variable: diff_dur_over_ed_rec_min_stepsize3 Importance: 0.0\n",
      "Variable: diff_dur_over_ed_rec_max_stepsize3 Importance: 0.0\n",
      "Variable: amp_over_ed_rec_std  Importance: 0.0\n",
      "Variable: amp_over_ed_rec_min  Importance: 0.0\n",
      "Variable: amp_over_ed_rec_max  Importance: 0.0\n",
      "Variable: diff_amp_over_ed_rec_mean_stepsize1 Importance: 0.0\n",
      "Variable: diff_amp_over_ed_rec_std_stepsize1 Importance: 0.0\n",
      "Variable: diff_amp_over_ed_rec_min_stepsize1 Importance: 0.0\n",
      "Variable: diff_amp_over_ed_rec_max_stepsize1 Importance: 0.0\n",
      "Variable: diff_amp_over_ed_rec_median_stepsize2 Importance: 0.0\n",
      "Variable: diff_amp_over_ed_rec_std_stepsize2 Importance: 0.0\n",
      "Variable: diff_amp_over_ed_rec_min_stepsize2 Importance: 0.0\n",
      "Variable: diff_amp_over_ed_rec_max_stepsize2 Importance: 0.0\n",
      "Variable: diff_amp_over_ed_rec_std_stepsize3 Importance: 0.0\n",
      "Variable: diff_amp_over_ed_rec_min_stepsize3 Importance: 0.0\n",
      "Variable: diff_amp_over_ed_rec_max_stepsize3 Importance: 0.0\n"
     ]
    }
   ],
   "source": [
    "# Get numerical feature importances\n",
    "importances = list(regressor.feature_importances_)\n",
    "# List of tuples with variable and importance\n",
    "feature_importances = [(feature, round(importance, 2)) for feature, importance in zip(feature_list, importances)]\n",
    "# Sort the feature importances by most important first\n",
    "feature_importances = sorted(feature_importances, key = lambda x: x[1], reverse = True)\n",
    "# Print out the feature and importances \n",
    "[print('Variable: {:20} Importance: {}'.format(*pair)) for pair in feature_importances];"
   ]
  },
  {
   "cell_type": "code",
   "execution_count": null,
   "metadata": {},
   "outputs": [],
   "source": []
  }
 ],
 "metadata": {
  "kernelspec": {
   "display_name": "fleck38",
   "language": "python",
   "name": "fleck38"
  },
  "language_info": {
   "codemirror_mode": {
    "name": "ipython",
    "version": 3
   },
   "file_extension": ".py",
   "mimetype": "text/x-python",
   "name": "python",
   "nbconvert_exporter": "python",
   "pygments_lexer": "ipython3",
   "version": "3.8.0"
  }
 },
 "nbformat": 4,
 "nbformat_minor": 2
}
